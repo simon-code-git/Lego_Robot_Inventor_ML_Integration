{
 "cells": [
  {
   "cell_type": "code",
   "execution_count": 1,
   "id": "23d4d518",
   "metadata": {},
   "outputs": [],
   "source": [
    "import asyncio\n",
    "from contextlib import suppress\n",
    "from bleak import BleakScanner, BleakClient"
   ]
  },
  {
   "cell_type": "code",
   "execution_count": 2,
   "id": "f09499e6",
   "metadata": {},
   "outputs": [],
   "source": [
    "PYBRICKS_COMMAND_EVENT_CHAR_UUID = \"c5f50002-8280-46da-89f4-6d8051e4aeef\" #BLE characteristic.  \n",
    "HUB_NAME = \"Pybricks Hub\""
   ]
  },
  {
   "cell_type": "code",
   "execution_count": 4,
   "id": "cbe88f51",
   "metadata": {},
   "outputs": [],
   "source": [
    "async def discover_hub():\n",
    "    device = await BleakScanner.find_device_by_name(HUB_NAME)\n",
    "    if device is None:\n",
    "        print(f\"Could not find hub with name: \\n    {HUB_NAME}. \")\n",
    "    else: \n",
    "        print(f'Hub discovered: \\n    {device}. ')\n",
    "    return device"
   ]
  },
  {
   "cell_type": "code",
   "execution_count": 10,
   "id": "7b7b090e",
   "metadata": {},
   "outputs": [
    {
     "name": "stdout",
     "output_type": "stream",
     "text": [
      "Hub discovered: \n",
      "    05:86:F1:DA:B0:C2: Pybricks Hub. \n",
      "All services, characteristics, and descriptors: \n",
      "    Service: 00001800-0000-1000-8000-00805f9b34fb\n",
      "       Characteristic: 00002a00-0000-1000-8000-00805f9b34fb (Properties: ['read'])\n",
      "    Service: 0000180a-0000-1000-8000-00805f9b34fb\n",
      "       Characteristic: 00002a26-0000-1000-8000-00805f9b34fb (Properties: ['read'])\n",
      "       Characteristic: 00002a28-0000-1000-8000-00805f9b34fb (Properties: ['read'])\n",
      "       Characteristic: 00002a50-0000-1000-8000-00805f9b34fb (Properties: ['read'])\n",
      "    Service: c5f50001-8280-46da-89f4-6d8051e4aeef\n",
      "       Characteristic: c5f50002-8280-46da-89f4-6d8051e4aeef (Properties: ['write', 'notify'])\n",
      "        Descriptor: 00002902-0000-1000-8000-00805f9b34fb (Handle: 14): Client Characteristic Configuration\n",
      "       Characteristic: c5f50003-8280-46da-89f4-6d8051e4aeef (Properties: ['read'])\n",
      "    Service: 6e400001-b5a3-f393-e0a9-e50e24dcca9e\n",
      "       Characteristic: 6e400002-b5a3-f393-e0a9-e50e24dcca9e (Properties: ['write-without-response', 'write'])\n",
      "       Characteristic: 6e400003-b5a3-f393-e0a9-e50e24dcca9e (Properties: ['notify'])\n",
      "        Descriptor: 00002902-0000-1000-8000-00805f9b34fb (Handle: 22): Client Characteristic Configuration\n"
     ]
    }
   ],
   "source": [
    "async def discover_hub():\n",
    "    device = await BleakScanner.find_device_by_name(HUB_NAME)\n",
    "    if device is None:\n",
    "        print(f\"Could not find hub with name: \\n    {HUB_NAME}. \")\n",
    "    else: \n",
    "        print(f'Hub discovered: \\n    {device}. ')\n",
    "    return device\n",
    "async def discoverServices(address):\n",
    "    async with BleakClient(address) as Hub:\n",
    "        if Hub.is_connected:\n",
    "            services = Hub.services #Get all services, characteristics, and descriptors.\n",
    "            print('All services, characteristics, and descriptors: ')\n",
    "            for service in services:\n",
    "                print(f'    Service: {service.uuid}')\n",
    "                for characteristic in service.characteristics:\n",
    "                    print(f'       Characteristic: {characteristic.uuid} (Properties: {characteristic.properties})')\n",
    "                    for descriptor in characteristic.descriptors:\n",
    "                        print(f'        Descriptor: {descriptor}')\n",
    "        else:\n",
    "            print('Failed to connect to Cube. ')\n",
    "device = await discover_hub()\n",
    "await discoverServices(device)"
   ]
  },
  {
   "cell_type": "code",
   "execution_count": 110,
   "id": "13f230df",
   "metadata": {},
   "outputs": [],
   "source": [
    "def handle_notification(_, data: bytearray):\n",
    "    #payload = data[1:] #Slice to second array element, since first character 0x01 indicates stdout event. \n",
    "    print(data)"
   ]
  },
  {
   "cell_type": "code",
   "execution_count": 111,
   "id": "553ba166",
   "metadata": {},
   "outputs": [
    {
     "name": "stdout",
     "output_type": "stream",
     "text": [
      "Hub discovered: \n",
      "    1D:44:0C:66:B0:B6: Pybricks Hub. \n",
      "bytearray(b'\\x00\\x00\\x02\\x00\\x00\\x00')\n",
      "bytearray(b'\\x00\\x00\\x02\\x00\\x00\\x00')\n",
      "bytearray(b'\\x00\\x00\\x02\\x00\\x00\\x00')\n",
      "bytearray(b'\\x00\\x00\\x02\\x00\\x00\\x00')\n",
      "bytearray(b'\\x00\\x00\\x02\\x00\\x00\\x00')\n",
      "bytearray(b'\\x00\\x00\\x02\\x00\\x00\\x00')\n",
      "bytearray(b'\\x00\\x00\\x02\\x00\\x00\\x00')\n",
      "bytearray(b'\\x00 \\x02\\x00\\x00\\x00')\n",
      "bytearray(b'\\x00\\x00\\x02\\x00\\x00\\x00')\n",
      "bytearray(b'\\x00@\\x02\\x00\\x00\\x00')\n",
      "bytearray(b'\\x00@\\x02\\x00\\x00\\x00')\n",
      "bytearray(b'\\x00@\\x02\\x00\\x00\\x00')\n",
      "bytearray(b'\\x00@\\x02\\x00\\x00\\x00')\n",
      "bytearray(b'\\x00@\\x02\\x00\\x00\\x00')\n",
      "bytearray(b'\\x00@\\x02\\x00\\x00\\x00')\n",
      "bytearray(b'\\x00@\\x02\\x00\\x00\\x00')\n",
      "bytearray(b'\\x00@\\x02\\x00\\x00\\x00')\n",
      "bytearray(b'\\x00@\\x02\\x00\\x00\\x00')\n",
      "bytearray(b'\\x00@\\x02\\x00\\x00\\x00')\n",
      "bytearray(b'\\x00@\\x02\\x00\\x00\\x00')\n",
      "bytearray(b'\\x00@\\x02\\x00\\x00\\x00')\n",
      "bytearray(b'\\x00@\\x02\\x00\\x00\\x00')\n",
      "bytearray(b'\\x00@\\x02\\x00\\x00\\x00')\n",
      "bytearray(b'\\x00@\\x02\\x00\\x00\\x00')\n",
      "bytearray(b'\\x00@\\x02\\x00\\x00\\x00')\n",
      "bytearray(b'\\x00@\\x02\\x00\\x00\\x00')\n",
      "bytearray(b'\\x00@\\x02\\x00\\x00\\x00')\n",
      "bytearray(b'\\x00@\\x02\\x00\\x00\\x00')\n",
      "bytearray(b'\\x00@\\x02\\x00\\x00\\x00')\n",
      "bytearray(b'\\x00@\\x02\\x00\\x00\\x00')\n",
      "bytearray(b'\\x00@\\x02\\x00\\x00\\x00')\n",
      "bytearray(b'\\x00`\\x02\\x00\\x00\\x00')\n",
      "bytearray(b'\\x01The program was sto')\n",
      "bytearray(b'\\x01pped (SystemExit).\\r')\n",
      "bytearray(b'\\x01\\n')\n",
      "bytearray(b'\\x00 \\x02\\x00\\x00\\x00')\n",
      "bytearray(b'\\x00\\x00\\x02\\x00\\x00\\x00')\n"
     ]
    },
    {
     "ename": "BleakError",
     "evalue": "Could not write value b'\\x06fwd' to characteristic 000C: Protocol Error 0x81: Unknown",
     "output_type": "error",
     "traceback": [
      "\u001b[31m---------------------------------------------------------------------------\u001b[39m",
      "\u001b[31mBleakError\u001b[39m                                Traceback (most recent call last)",
      "\u001b[36mCell\u001b[39m\u001b[36m \u001b[39m\u001b[32mIn[111]\u001b[39m\u001b[32m, line 5\u001b[39m\n\u001b[32m      3\u001b[39m \u001b[38;5;28;01mawait\u001b[39;00m client.start_notify(PYBRICKS_COMMAND_EVENT_CHAR_UUID, handle_notification)\n\u001b[32m      4\u001b[39m \u001b[38;5;28;01mwhile\u001b[39;00m \u001b[38;5;28;01mTrue\u001b[39;00m: \n\u001b[32m----> \u001b[39m\u001b[32m5\u001b[39m     \u001b[38;5;28;01mawait\u001b[39;00m client.write_gatt_char(\n\u001b[32m      6\u001b[39m     PYBRICKS_COMMAND_EVENT_CHAR_UUID,\n\u001b[32m      7\u001b[39m     \u001b[33mb\u001b[39m\u001b[33m\"\u001b[39m\u001b[38;5;130;01m\\x06\u001b[39;00m\u001b[33m\"\u001b[39m + \u001b[33mb\u001b[39m\u001b[33m\"\u001b[39m\u001b[33mfwd\u001b[39m\u001b[33m\"\u001b[39m, \n\u001b[32m      8\u001b[39m     response=\u001b[38;5;28;01mTrue\u001b[39;00m)\n",
      "\u001b[36mFile \u001b[39m\u001b[32m~\\AppData\\Roaming\\Python\\Python312\\site-packages\\bleak\\__init__.py:786\u001b[39m, in \u001b[36mBleakClient.write_gatt_char\u001b[39m\u001b[34m(self, char_specifier, data, response)\u001b[39m\n\u001b[32m    781\u001b[39m \u001b[38;5;28;01mif\u001b[39;00m response \u001b[38;5;129;01mis\u001b[39;00m \u001b[38;5;28;01mNone\u001b[39;00m:\n\u001b[32m    782\u001b[39m     \u001b[38;5;66;03m# if not specified, prefer write-with-response over write-without-\u001b[39;00m\n\u001b[32m    783\u001b[39m     \u001b[38;5;66;03m# response if it is available since it is the more reliable write.\u001b[39;00m\n\u001b[32m    784\u001b[39m     response = \u001b[33m\"\u001b[39m\u001b[33mwrite\u001b[39m\u001b[33m\"\u001b[39m \u001b[38;5;129;01min\u001b[39;00m characteristic.properties\n\u001b[32m--> \u001b[39m\u001b[32m786\u001b[39m \u001b[38;5;28;01mawait\u001b[39;00m \u001b[38;5;28mself\u001b[39m._backend.write_gatt_char(characteristic, data, response)\n",
      "\u001b[36mFile \u001b[39m\u001b[32m~\\AppData\\Roaming\\Python\\Python312\\site-packages\\bleak\\backends\\winrt\\client.py:905\u001b[39m, in \u001b[36mBleakClientWinRT.write_gatt_char\u001b[39m\u001b[34m(self, characteristic, data, response)\u001b[39m\n\u001b[32m    903\u001b[39m \u001b[38;5;28;01mwith\u001b[39;00m \u001b[38;5;28mmemoryview\u001b[39m(buf) \u001b[38;5;28;01mas\u001b[39;00m mv:\n\u001b[32m    904\u001b[39m     mv[:] = data\n\u001b[32m--> \u001b[39m\u001b[32m905\u001b[39m _ensure_success(\n\u001b[32m    906\u001b[39m     \u001b[38;5;28;01mawait\u001b[39;00m characteristic.obj.write_value_with_result_async(buf, response),\n\u001b[32m    907\u001b[39m     \u001b[38;5;28;01mNone\u001b[39;00m,\n\u001b[32m    908\u001b[39m     \u001b[33mf\u001b[39m\u001b[33m\"\u001b[39m\u001b[33mCould not write value \u001b[39m\u001b[38;5;132;01m{\u001b[39;00mdata\u001b[38;5;132;01m}\u001b[39;00m\u001b[33m to characteristic \u001b[39m\u001b[38;5;132;01m{\u001b[39;00mcharacteristic.handle\u001b[38;5;132;01m:\u001b[39;00m\u001b[33m04X\u001b[39m\u001b[38;5;132;01m}\u001b[39;00m\u001b[33m\"\u001b[39m,\n\u001b[32m    909\u001b[39m )\n",
      "\u001b[36mFile \u001b[39m\u001b[32m~\\AppData\\Roaming\\Python\\Python312\\site-packages\\bleak\\backends\\winrt\\client.py:160\u001b[39m, in \u001b[36m_ensure_success\u001b[39m\u001b[34m(result, attr, fail_msg)\u001b[39m\n\u001b[32m    158\u001b[39m \u001b[38;5;28;01mif\u001b[39;00m status == GattCommunicationStatus.PROTOCOL_ERROR:\n\u001b[32m    159\u001b[39m     err = PROTOCOL_ERROR_CODES.get(result.protocol_error, \u001b[33m\"\u001b[39m\u001b[33mUnknown\u001b[39m\u001b[33m\"\u001b[39m)\n\u001b[32m--> \u001b[39m\u001b[32m160\u001b[39m     \u001b[38;5;28;01mraise\u001b[39;00m BleakError(\n\u001b[32m    161\u001b[39m         \u001b[33mf\u001b[39m\u001b[33m\"\u001b[39m\u001b[38;5;132;01m{\u001b[39;00mfail_msg\u001b[38;5;132;01m}\u001b[39;00m\u001b[33m: Protocol Error 0x\u001b[39m\u001b[38;5;132;01m{\u001b[39;00mresult.protocol_error\u001b[38;5;132;01m:\u001b[39;00m\u001b[33m02X\u001b[39m\u001b[38;5;132;01m}\u001b[39;00m\u001b[33m: \u001b[39m\u001b[38;5;132;01m{\u001b[39;00merr\u001b[38;5;132;01m}\u001b[39;00m\u001b[33m\"\u001b[39m\n\u001b[32m    162\u001b[39m     )\n\u001b[32m    164\u001b[39m \u001b[38;5;28;01mif\u001b[39;00m status == GattCommunicationStatus.ACCESS_DENIED:\n\u001b[32m    165\u001b[39m     \u001b[38;5;28;01mraise\u001b[39;00m BleakError(\u001b[33mf\u001b[39m\u001b[33m\"\u001b[39m\u001b[38;5;132;01m{\u001b[39;00mfail_msg\u001b[38;5;132;01m}\u001b[39;00m\u001b[33m: Access Denied\u001b[39m\u001b[33m\"\u001b[39m)\n",
      "\u001b[31mBleakError\u001b[39m: Could not write value b'\\x06fwd' to characteristic 000C: Protocol Error 0x81: Unknown"
     ]
    }
   ],
   "source": [
    "device = await discover_hub()\n",
    "async with BleakClient(device) as client:\n",
    "    await client.start_notify(PYBRICKS_COMMAND_EVENT_CHAR_UUID, handle_notification)\n",
    "    while True: \n",
    "        await client.write_gatt_char(\n",
    "        PYBRICKS_COMMAND_EVENT_CHAR_UUID,\n",
    "        b\"\\x06\" + b\"fwd\", \n",
    "        response=True)"
   ]
  },
  {
   "cell_type": "code",
   "execution_count": null,
   "id": "c9071914",
   "metadata": {},
   "outputs": [],
   "source": []
  }
 ],
 "metadata": {
  "kernelspec": {
   "display_name": "base",
   "language": "python",
   "name": "python3"
  },
  "language_info": {
   "codemirror_mode": {
    "name": "ipython",
    "version": 3
   },
   "file_extension": ".py",
   "mimetype": "text/x-python",
   "name": "python",
   "nbconvert_exporter": "python",
   "pygments_lexer": "ipython3",
   "version": "3.12.9"
  }
 },
 "nbformat": 4,
 "nbformat_minor": 5
}
